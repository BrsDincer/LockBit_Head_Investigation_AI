{
  "nbformat": 4,
  "nbformat_minor": 0,
  "metadata": {
    "colab": {
      "provenance": []
    },
    "kernelspec": {
      "name": "python3",
      "display_name": "Python 3"
    },
    "language_info": {
      "name": "python"
    }
  },
  "cells": [
    {
      "cell_type": "markdown",
      "source": [
        "# Scope of Project\n",
        "\n",
        "**Recently, the identity of Dmitry Yuryevich Khoroshev, who is thought to be one of the managers and coordinators of the cybercrime gang Lockbit, was revealed by national security institutions.**\n",
        "\n",
        "> `WARNING`: **It is not created for standard users. It is highly recommended for use by developers or researchers familiar with the cyber field.**\n",
        "\n",
        "- This project was created by [Baris Dincer](https://www.linkedin.com/in/brs-dincer/) to combine artificial intelligence modular systems with forensic investigation processes, shorten investigation processes and obtain informations from evidence.\n",
        "\n",
        "- This project can be used both operationally and experimentally.\n",
        "\n",
        "- Be sure to gather your evidence before running this project and start the process by following the instructions in the code flow.\n",
        "\n",
        "- There are sections within the code flow where you will provide manual input. Read these sections carefully.\n",
        "\n",
        "> `INFO`: **The process of development and adding new features is ongoing.**\n",
        "\n",
        "> `WARNING`: **The code section should be examined thoroughly.**\n",
        "\n",
        "> `INFO`: **Sample evidence files are at this link**: https://drive.google.com/drive/folders/1JA-QFndqYUR-ADNtDk_scq7llayi1D1F?usp=sharing\n",
        "\n",
        "\n",
        "Author: **Baris Dincer**\n",
        "\n",
        "- LinkedIn: https://www.linkedin.com/in/brs-dincer/\n",
        "\n",
        "- ProtonMail: baris.dincer@protonmail.com\n",
        "\n"
      ],
      "metadata": {
        "id": "B5c4DtFTJQlw"
      }
    },
    {
      "cell_type": "markdown",
      "source": [
        "# Utilization"
      ],
      "metadata": {
        "id": "8BqWMdeoVhhF"
      }
    },
    {
      "cell_type": "markdown",
      "source": [
        "## External Installing"
      ],
      "metadata": {
        "id": "_JKJEnB7e3oM"
      }
    },
    {
      "cell_type": "code",
      "source": [
        "modules:list = [\n",
        "    \"'pyautogen[retrievechat]' 'qdrant_client[fastembed]' 'flaml[automl]'\",\n",
        "    \"langchain-openai==0.0.3\",\n",
        "    \"langchain_experimental==0.0.49\",\n",
        "    \"huggingface_hub==0.20.2\",\n",
        "    \"newspaper3k==0.2.8\",\n",
        "    \"wikipedia==1.4.0\",\n",
        "    \"playwright==1.41.1\",\n",
        "    \"html2text==2020.1.16\",\n",
        "    \"faiss-cpu==1.7.4\",\n",
        "    \"-U -q google-generativeai\",\n",
        "    \"protobuf==3.20.*\"\n",
        "]"
      ],
      "metadata": {
        "id": "aF78a8NwbkVw"
      },
      "execution_count": 1,
      "outputs": []
    },
    {
      "cell_type": "markdown",
      "source": [
        "> `WARNING`: **Ignore the pip errors and the packages will still install properly, don't change anything unless necessary**"
      ],
      "metadata": {
        "id": "_Q1SDvEdSQx9"
      }
    },
    {
      "cell_type": "code",
      "source": [
        "for mdl in modules:\n",
        "  !pip install $mdl >> \"modules_pip_log.txt\""
      ],
      "metadata": {
        "id": "uY1BhKEIfF0f"
      },
      "execution_count": null,
      "outputs": []
    },
    {
      "cell_type": "markdown",
      "source": [
        "## Default Modules"
      ],
      "metadata": {
        "id": "FZNuGkzXVjkI"
      }
    },
    {
      "cell_type": "code",
      "execution_count": 3,
      "metadata": {
        "id": "MGcS6Q1RVZ2R"
      },
      "outputs": [],
      "source": [
        "import os,shutil,time,uuid,requests,math,warnings\n",
        "import cv2 as cv\n",
        "import numpy as np\n",
        "from requests.packages.urllib3.exceptions import InsecureRequestWarning,InsecurePlatformWarning\n",
        "from typing import Union,Optional,Any,Type\n",
        "from datetime import datetime,timedelta\n",
        "from PIL import Image as PILImage\n",
        "from google.colab import userdata\n",
        "requests.packages.urllib3.disable_warnings(InsecureRequestWarning);requests.packages.urllib3.disable_warnings(InsecurePlatformWarning)\n",
        "warnings.filterwarnings(\"ignore\",category=UserWarning);warnings.filterwarnings(\"ignore\",category=FutureWarning);warnings.filterwarnings(\"ignore\",category=DeprecationWarning);warnings.filterwarnings(\"ignore\",category=RuntimeWarning)"
      ]
    },
    {
      "cell_type": "markdown",
      "source": [
        "## Initial Classes"
      ],
      "metadata": {
        "id": "3-rEIwzYWhdd"
      }
    },
    {
      "cell_type": "code",
      "source": [
        "class InitClass(object):pass\n",
        "class InitProcess(object):pass\n",
        "class InitNull(object):pass\n",
        "class InitError(Exception):pass\n",
        "class InitModel(object):pass\n",
        "class InitFunction(object):pass"
      ],
      "metadata": {
        "id": "CKhe9TFnWhEx"
      },
      "execution_count": 4,
      "outputs": []
    },
    {
      "cell_type": "code",
      "source": [
        "class Constants:\n",
        "  dirImg = os.path.join(os.getcwd(),\"image_directory\")\n",
        "  dirDoc = os.path.join(os.getcwd(),\"document_directory\")\n",
        "  dirResponse = os.path.join(os.getcwd(),\"response_directory\")\n",
        "  dirData = os.path.join(os.getcwd(),\"data_directory\")\n",
        "  dirCode = os.path.join(os.getcwd(),\"code_directory\")\n",
        "  dirModel = os.path.join(os.getcwd(),\"model_response_directory\")\n",
        "  dirOut = os.path.join(os.getcwd(),\"user_data_directory\")"
      ],
      "metadata": {
        "id": "U2qNzRGsXbaq"
      },
      "execution_count": 55,
      "outputs": []
    },
    {
      "cell_type": "code",
      "source": [
        "class Errors(InitError):\n",
        "  def __init__(self,error:InitError=NotImplementedError,msg:InitClass=NotImplemented)->Optional[InitClass]:\n",
        "    self.error = error\n",
        "    self.msg = msg\n",
        "  def __str__(self)->str:\n",
        "    return \"ERROR MODULATION\"\n",
        "  def __call__(self)->InitError:\n",
        "    raise self.error(self.msg)\n",
        "  def __getstate__(self)->InitError:\n",
        "    raise self.error(self.msg)\n",
        "  def __repr__(self)->str:\n",
        "    return Errors.__doc__\n",
        "  def __len__(self)->int:\n",
        "    return 0\n",
        "  def Manuel(self,errorType:InitError,errorMsg:InitClass)->InitError:\n",
        "    raise errorType(errorMsg)"
      ],
      "metadata": {
        "id": "JZDRmbg3bweY"
      },
      "execution_count": 6,
      "outputs": []
    },
    {
      "cell_type": "code",
      "source": [
        "errors = Errors()"
      ],
      "metadata": {
        "id": "x2Jlz5DndIWB"
      },
      "execution_count": 7,
      "outputs": []
    },
    {
      "cell_type": "code",
      "source": [
        "class WriteLocal(InitFunction):\n",
        "  def __init__(self,path:Union[str,None]=None)->Optional[InitClass]:\n",
        "    CreateDirectory(Constants.dirResponse)\n",
        "    self.ops = None\n",
        "    self.__path = path if path is not None else os.path.join(Constants.dirResponse,f\"{str(uuid.uuid4()).replace('-','_')}_general_response.txt\")\n",
        "  def __str__(self)->str:\n",
        "    return \"WRITE ON LOCAL MODULATION\"\n",
        "  def __call__(self)->InitNull:\n",
        "    return None\n",
        "  def __getstate__(self)->InitError:\n",
        "    errors()\n",
        "  def __repr__(self)->str:\n",
        "    return WriteLocal.__doc__\n",
        "  def __len__(self)->int:\n",
        "    return 0\n",
        "  def Text(self,txt:Union[str,bytes])->InitProcess:\n",
        "    if isinstance(txt,bytes): txt = txt.decode(\"utf-8\")\n",
        "    return self.ops.write(str(txt))\n",
        "  def __enter__(self)->InitProcess:\n",
        "    self.ops = open(self.__path,\"w\",encoding=\"utf-8\")\n",
        "    return self\n",
        "  def __exit__(self,e1:InitClass,e2:InitClass,e3:InitClass)->InitProcess:\n",
        "    self.ops.close()"
      ],
      "metadata": {
        "id": "DdYLp-aAcSGp"
      },
      "execution_count": 8,
      "outputs": []
    },
    {
      "cell_type": "code",
      "source": [
        "class Credentials(InitFunction):\n",
        "  def __init__(self)->Optional[InitClass]:\n",
        "    pass\n",
        "  def __str__(self)->str:\n",
        "    return \"CREDENTIALS MODULATION\"\n",
        "  def __call__(self)->InitProcess:\n",
        "    os.environ[\"OPENAI_API_KEY\"] = userdata.get(\"OPENAI_NEW_API\")\n",
        "    os.environ[\"GEMINI_API_KEY\"] = userdata.get(\"GEMINI_NEW_API\")\n",
        "    os.environ[\"GOOGLE_API_KEY\"] = userdata.get(\"GOOGLE_API_KEY\")\n",
        "    os.environ[\"GOOGLE_CSE_ID\"] = userdata.get(\"CSE_ID_KEY\")\n",
        "    os.environ[\"HUGGINGFACEHUB_API_TOKEN\"] = userdata.get(\"HUGGINGFACEHUB_API_TOKEN\")\n",
        "    print(\"[:: FROM SYSTEM ::] CREDENTIALS HAS BEEN DEFINED\")\n",
        "  def __getstate__(self)->InitError:\n",
        "    errors()\n",
        "  def __repr__(self)->str:\n",
        "    return Credentials.__doc__\n",
        "  def __len__(self)->int:\n",
        "    return 0"
      ],
      "metadata": {
        "id": "yPAZK75wdvBM"
      },
      "execution_count": 9,
      "outputs": []
    },
    {
      "cell_type": "code",
      "source": [
        "credentials = Credentials()\n",
        "credentials()"
      ],
      "metadata": {
        "colab": {
          "base_uri": "https://localhost:8080/"
        },
        "id": "dAu0U-VmemYd",
        "outputId": "dd651190-3f9b-48fd-c960-62dac90efaf3"
      },
      "execution_count": 10,
      "outputs": [
        {
          "output_type": "stream",
          "name": "stdout",
          "text": [
            "[:: FROM SYSTEM ::] CREDENTIALS HAS BEEN DEFINED\n"
          ]
        }
      ]
    },
    {
      "cell_type": "markdown",
      "source": [
        "## External Classes"
      ],
      "metadata": {
        "id": "ODP66LnoWzS7"
      }
    },
    {
      "cell_type": "code",
      "source": [
        "class File:\n",
        "  def __init__(self,path:str,name:Union[str,None]=None)->Optional[InitClass]:\n",
        "    self.path = path\n",
        "    self.name = name if name is not None else str(uuid.uuid4()).replace(\"-\",\"_\")\n",
        "    self.source = self.GetSource(self.path)\n",
        "  def FileResponse(self,response:Union[str,InitClass])->Optional[InitProcess]:\n",
        "    self.response = response\n",
        "  def GetSource(self,path:str,prefix:str=\"_\")->str:\n",
        "    parts = path.split(prefix)\n",
        "    return parts[0].replace(\" \",\"_\").replace(\"-\",\"_\")"
      ],
      "metadata": {
        "id": "08ccuvm4Wyoz"
      },
      "execution_count": 11,
      "outputs": []
    },
    {
      "cell_type": "markdown",
      "source": [
        "## Initial Functions"
      ],
      "metadata": {
        "id": "OMIcFKy_YDPD"
      }
    },
    {
      "cell_type": "code",
      "source": [
        "CreateDirectory:Optional[InitFunction] = lambda path:os.makedirs(path,exist_ok=True)\n",
        "DeleteDirectory:Optional[InitFunction] = lambda path:shutil.rmtree(path) if len(os.listdir(path)) > 0 else None\n",
        "KeyControl:Optional[InitFunction] = lambda key:key.name.replace(\" \",\"_\")\n",
        "DeleteHTTP:Optional[InitFunction] = lambda url:url.replace(\"https://\",\"\").replace(\"http://\",\"\").rstrip().lstrip()\n",
        "GlobalChecker:Optional[InitFunction] = lambda variable:str(variable) in globals()"
      ],
      "metadata": {
        "id": "uDgVwhCDX6TN"
      },
      "execution_count": 136,
      "outputs": []
    },
    {
      "cell_type": "markdown",
      "source": [
        "## Initial Decoders"
      ],
      "metadata": {
        "id": "6cClK-F6ZFr7"
      }
    },
    {
      "cell_type": "code",
      "source": [
        "def TimeDecoder(func:Optional[InitFunction])->Union[str,None]:\n",
        "  def Wrapper(*args,**kwargs)->Union[str,None]:\n",
        "    before = time.time()\n",
        "    result = func(*args,**kwargs)\n",
        "    after = time.time()\n",
        "    difference = after-before\n",
        "    print(f\"[:: FROM SYSTEM ::] FUNCTION: {str(func.__name__)} EXECUTED IN {difference:.5f} SECONDS\")\n",
        "    return result\n",
        "  return Wrapper"
      ],
      "metadata": {
        "id": "BJUfYiO9ZDs6"
      },
      "execution_count": 13,
      "outputs": []
    },
    {
      "cell_type": "markdown",
      "source": [
        "## Operational Functions"
      ],
      "metadata": {
        "id": "n1alquQmZauz"
      }
    },
    {
      "cell_type": "code",
      "source": [
        "def IsTerminated(msg:Union[dict,InitClass])->bool:\n",
        "  if isinstance(msg,dict):\n",
        "    msg = msg.get(\"content\",None)\n",
        "    if msg is None:\n",
        "      return False\n",
        "    else:\n",
        "      return msg.rstrip().endswith(\"TERMINATE\")"
      ],
      "metadata": {
        "id": "SmKZq_oZZZSp"
      },
      "execution_count": 14,
      "outputs": []
    },
    {
      "cell_type": "code",
      "source": [
        "def Str2List(msg:str)->list:\n",
        "  if msg is not None:\n",
        "    listOut = []\n",
        "    output = msg.strip(\"][\").replace(\"'\",\"\")\n",
        "    output = output.strip('][').replace('\"','').replace(\"]\",\"\").replace(\"[\",\"\").split(\", \")\n",
        "    if len(output) > 0:\n",
        "      single = output[0].split(\",\")\n",
        "      for idx in single:\n",
        "        listOut.append(str(idx))\n",
        "    return listOut\n",
        "  else:\n",
        "    return []"
      ],
      "metadata": {
        "id": "jYkGPop2Zzm-"
      },
      "execution_count": 99,
      "outputs": []
    },
    {
      "cell_type": "code",
      "source": [
        "def SaveImage(images:Union[str,list])->Union[None,InitProcess]:\n",
        "  CreateDirectory(Constants.dirImg)\n",
        "  if isinstance(images,str): images = [images]\n",
        "  for idx,img in enumerate(images):\n",
        "    if (\"https://\" in img) or (\"http://\" in img):\n",
        "      try:\n",
        "        raw = requests.get(img,verify=False,stream=True,allow_redirects=True,timeout=20).raw\n",
        "        content = np.array(PILImage.open(raw),dtype=np.uint8)\n",
        "        path = os.path.join(Constants.dirImg,f\"image_content_{idx}.jpg\")\n",
        "        cv.imwrite(path,content)\n",
        "        print(f\"[:: FROM SYSTEM ::] IMAGE {idx} HAS BEEN SAVED TO {path} FROM URL\")\n",
        "      except:\n",
        "        pass\n",
        "    else:\n",
        "      try:\n",
        "        content = np.array(cv.imread(img),dtype=np.uint8)\n",
        "        path = os.path.join(Constants.dirImg,f\"image_content_{idx}.jpg\")\n",
        "        print(f\"[:: FROM SYSTEM ::] IMAGE {idx} HAS BEEN SAVED TO {path} FROM LOCAL\")\n",
        "      except:\n",
        "        pass"
      ],
      "metadata": {
        "id": "yUkblIvzaK4j"
      },
      "execution_count": 16,
      "outputs": []
    },
    {
      "cell_type": "code",
      "source": [
        "def TransferFilesToDirectory(fileDirectory:str,destination:str=Constants.dirDoc)->Union[bool,InitProcess]:\n",
        "  if fileDirectory:\n",
        "    for base,_,files in os.walk(fileDirectory):\n",
        "      for f in files:\n",
        "        path = os.path.join(base,f)\n",
        "        shutil.copy(path,destination)\n",
        "    return True\n",
        "  else:\n",
        "    return False"
      ],
      "metadata": {
        "id": "nkB7pId2sJ84"
      },
      "execution_count": 17,
      "outputs": []
    },
    {
      "cell_type": "markdown",
      "source": [
        "# Information Gathering"
      ],
      "metadata": {
        "id": "1N0v4DMaiAD5"
      }
    },
    {
      "cell_type": "markdown",
      "source": [
        "## GOOGLE"
      ],
      "metadata": {
        "id": "jz3Td2biiFYM"
      }
    },
    {
      "cell_type": "code",
      "source": [
        "from langchain_community.utilities import GoogleSearchAPIWrapper"
      ],
      "metadata": {
        "id": "swnfkIE9fQg0"
      },
      "execution_count": 459,
      "outputs": []
    },
    {
      "cell_type": "code",
      "source": [
        "class GoogleSearch(object):\n",
        "  def __init__(self,similarity:int=1,power:int=1)->Optional[InitClass]:\n",
        "    CreateDirectory(Constants.dirDoc)\n",
        "    self.k = int(similarity)\n",
        "    self.power = int(power)\n",
        "    self.wrapper = GoogleSearchAPIWrapper(\n",
        "        k=self.k,siterestrict=False\n",
        "    )\n",
        "  def __str__(self)->str:\n",
        "    return \"GOOGLE SEARCH MODULATION\"\n",
        "  def __call__(self)->InitNull:\n",
        "    return None\n",
        "  def __getstate__(self)->InitError:\n",
        "    errors()\n",
        "  def __repr__(self)->str:\n",
        "    return GoogleSearch.__doc__\n",
        "  def __len__(self)->int:\n",
        "    return 0\n",
        "  @TimeDecoder\n",
        "  def Query(self,topic:str,sites:Union[str,list]=None)->Union[list,InitProcess]:\n",
        "    content = \"\"\n",
        "    links = []\n",
        "    if sites is not None:\n",
        "      queries = []\n",
        "      if isinstance(sites,str): sites = [sites]\n",
        "      for site in sites:\n",
        "        query = f\"site: {DeleteHTTP(str(site).lower()).lstrip().rstrip()} '{topic}'\"\n",
        "        queries.append(query)\n",
        "      for qr in queries:\n",
        "        result = self.wrapper.results(qr,num_results=self.power)\n",
        "        if (result) and (len(result) > 0):\n",
        "          try:\n",
        "            for idx in range(len(result)):\n",
        "              data = result[idx]\n",
        "              content += (f\"TITLE:{data['title']}\\nDESCRIPTION:{data['snippet']}\\n\\n\")\n",
        "              links.append(data['link'])\n",
        "          except Exception as err:\n",
        "            print(str(err))\n",
        "            pass\n",
        "        else:\n",
        "          pass\n",
        "    else:\n",
        "      result = self.wrapper.results(str(topic),num_results=self.power)\n",
        "      if (result) and (len(result) > 0):\n",
        "        try:\n",
        "          for idx in range(len(result)):\n",
        "            data = result[idx]\n",
        "            content += (f\"TITLE:{data['title']}\\nDESCRIPTION:{data['snippet']}\\n\\n\")\n",
        "            links.append(data['link'])\n",
        "        except:\n",
        "          pass\n",
        "      else:\n",
        "        pass\n",
        "    if content:\n",
        "      path = os.path.join(Constants.dirDoc,\"google_response.txt\")\n",
        "      with WriteLocal(path) as ops:\n",
        "        ops.Text(content)\n",
        "    return links"
      ],
      "metadata": {
        "id": "slmI1kGeiPbS"
      },
      "execution_count": 460,
      "outputs": []
    },
    {
      "cell_type": "code",
      "source": [
        "gSearch = GoogleSearch()"
      ],
      "metadata": {
        "id": "-iC-L5icbSUs"
      },
      "execution_count": 461,
      "outputs": []
    },
    {
      "cell_type": "markdown",
      "source": [
        "## NEWS"
      ],
      "metadata": {
        "id": "PwcvJoKqk1nd"
      }
    },
    {
      "cell_type": "code",
      "source": [
        "from langchain_community.document_loaders import NewsURLLoader"
      ],
      "metadata": {
        "id": "JxT4fJpekxQk"
      },
      "execution_count": 462,
      "outputs": []
    },
    {
      "cell_type": "code",
      "source": [
        "class NewsSearch(object):\n",
        "  def __init__(self,isNLP:bool=True)->Optional[InitClass]:\n",
        "    CreateDirectory(Constants.dirDoc)\n",
        "    self.nlp = isNLP\n",
        "    self.optimization = dict(\n",
        "        text_mode=True,\n",
        "        continue_on_failure=True,\n",
        "        show_progress_bar=False,\n",
        "    )\n",
        "    if self.nlp:\n",
        "      try:\n",
        "        import nltk\n",
        "        nltk.download(\"punkt\")\n",
        "        self.optimization[\"nlp\"] = True\n",
        "      except:\n",
        "        self.optimization[\"nlp\"] = False\n",
        "    else:\n",
        "      self.optimization[\"nlp\"] = False\n",
        "  def __str__(self)->str:\n",
        "    return \"NEWS SEARCH MODULATION\"\n",
        "  def __call__(self)->InitNull:\n",
        "    return None\n",
        "  def __getstate__(self)->InitError:\n",
        "    errors()\n",
        "  def __repr__(self)->str:\n",
        "    return NewsSearch.__doc__\n",
        "  def __len__(self)->int:\n",
        "    return 0\n",
        "  @TimeDecoder\n",
        "  def Query(self,urls:Union[str,list])->Union[None,InitProcess]:\n",
        "    content = \"\"\n",
        "    if isinstance(urls,str): urls = [urls]\n",
        "    self.optimization[\"urls\"] = urls\n",
        "    loader = NewsURLLoader(**self.optimization)\n",
        "    result = loader.load()\n",
        "    if (result) and (len(result) > 0):\n",
        "      try:\n",
        "        for idx in range(len(result)):\n",
        "          data = result[idx]\n",
        "          if data.metadata[\"description\"]:\n",
        "            content += (f\"{idx+1} NEWS:\\n{data.metadata['description']}\\n\\n\")\n",
        "          else:\n",
        "            content += (f\"{idx+1} NEWS:\\n{data.metadata['summary']}\\n\\n\")\n",
        "      except:\n",
        "        pass\n",
        "    else:\n",
        "      pass\n",
        "    if content:\n",
        "      path = os.path.join(Constants.dirDoc,\"news_response.txt\")\n",
        "      with WriteLocal(path) as ops:\n",
        "        ops.Text(content)\n",
        "    return True"
      ],
      "metadata": {
        "id": "EHHMksjQk-dC"
      },
      "execution_count": 463,
      "outputs": []
    },
    {
      "cell_type": "code",
      "source": [
        "nSearch = NewsSearch()"
      ],
      "metadata": {
        "colab": {
          "base_uri": "https://localhost:8080/"
        },
        "id": "fVay-_3-bbYS",
        "outputId": "5cbe8a48-1562-438f-9215-c7b8fd1764f3"
      },
      "execution_count": 464,
      "outputs": [
        {
          "output_type": "stream",
          "name": "stderr",
          "text": [
            "[nltk_data] Downloading package punkt to /root/nltk_data...\n",
            "[nltk_data]   Package punkt is already up-to-date!\n"
          ]
        }
      ]
    },
    {
      "cell_type": "markdown",
      "source": [
        "## HTML"
      ],
      "metadata": {
        "id": "r0Dz7akYm0O9"
      }
    },
    {
      "cell_type": "code",
      "source": [
        "from langchain.document_transformers import Html2TextTransformer\n",
        "from langchain.document_loaders import AsyncChromiumLoader"
      ],
      "metadata": {
        "id": "suyv1VQyS4BW"
      },
      "execution_count": 465,
      "outputs": []
    },
    {
      "cell_type": "code",
      "source": [
        "class HTMLSearch(object):\n",
        "  def __init__(self)->Optional[InitClass]:\n",
        "    CreateDirectory(Constants.dirDoc)\n",
        "    try:\n",
        "      import nest_asyncio\n",
        "      nest_asyncio.apply()\n",
        "      !playwright install >> \"playwright_log.txt\"\n",
        "    except:\n",
        "      pass\n",
        "    self.engine = Html2TextTransformer(ignore_images=False,ignore_links=False)\n",
        "  def __str__(self)->str:\n",
        "    return \"HTML SEARCH MODULATION\"\n",
        "  def __call__(self)->InitNull:\n",
        "    return None\n",
        "  def __getstate__(self)->InitError:\n",
        "    errors()\n",
        "  def __repr__(self)->str:\n",
        "    return HTMLSearch.__doc__\n",
        "  def __len__(self)->int:\n",
        "    return 0\n",
        "  @TimeDecoder\n",
        "  def Query(self,urls:Union[str,list])->Union[list,InitProcess]:\n",
        "    content = \"\"\n",
        "    links = []\n",
        "    if isinstance(urls,str): urls = [urls]\n",
        "    loader = AsyncChromiumLoader(urls)\n",
        "    document = loader.load()\n",
        "    if document is not None:\n",
        "      transform = self.engine.transform_documents(document)\n",
        "      if (isinstance(transform,list) and len(transform) > 0) or (isinstance(transform,tuple) and len(transform) > 0):\n",
        "        for idx in range(len(transform)):\n",
        "          try:\n",
        "            data = transform[idx]\n",
        "            content += (f\"{idx+1} PAGE CONTENT:\\nCONTENT:{data.page_content}\\n\\n\")\n",
        "            try:\n",
        "              links.append(data.metadata[\"source\"])\n",
        "            except:\n",
        "              pass\n",
        "          except:\n",
        "            pass\n",
        "      else:\n",
        "        pass\n",
        "    if content:\n",
        "      path = os.path.join(Constants.dirDoc,\"html_response.txt\")\n",
        "      with WriteLocal(path) as ops:\n",
        "        ops.Text(content)\n",
        "    return links"
      ],
      "metadata": {
        "id": "Cue43NJamjLI"
      },
      "execution_count": 466,
      "outputs": []
    },
    {
      "cell_type": "code",
      "source": [
        "hSearch = HTMLSearch()"
      ],
      "metadata": {
        "id": "0chPdW9KbeLY"
      },
      "execution_count": 467,
      "outputs": []
    },
    {
      "cell_type": "markdown",
      "source": [
        "# Configuration Attributes"
      ],
      "metadata": {
        "id": "ieQswIDPaNQH"
      }
    },
    {
      "cell_type": "markdown",
      "source": [
        "## Autogen"
      ],
      "metadata": {
        "id": "w4QEym_YaPM5"
      }
    },
    {
      "cell_type": "code",
      "source": [
        "configurationAUTOGEN:list = [\n",
        "    {\n",
        "        \"model\":\"gpt-4-1106-preview\",\n",
        "        \"api_key\":os.environ.get(\"OPENAI_API_KEY\")\n",
        "    },\n",
        "    {\n",
        "        \"model\":\"gpt-4-vision-preview\",\n",
        "        \"api_key\":os.environ.get(\"OPENAI_API_KEY\")\n",
        "    },\n",
        "    {\n",
        "        \"model\": \"gemini-pro\",\n",
        "        \"api_key\": os.environ.get(\"GEMINI_API_KEY\"),\n",
        "        \"api_type\": \"google\"\n",
        "    },\n",
        "    {\n",
        "        \"model\": \"gemini-pro-vision\",\n",
        "        \"api_key\": os.environ.get(\"GEMINI_API_KEY\"),\n",
        "        \"api_type\": \"google\"\n",
        "    },\n",
        "    {\n",
        "        \"model\": \"gemini-1.5-pro-latest\",\n",
        "        \"api_key\": os.environ.get(\"GEMINI_API_KEY\"),\n",
        "        \"api_type\": \"google\"\n",
        "    }\n",
        "]"
      ],
      "metadata": {
        "id": "6wGrx8jFaQYo"
      },
      "execution_count": 468,
      "outputs": []
    },
    {
      "cell_type": "markdown",
      "source": [
        "# Retriever Agent"
      ],
      "metadata": {
        "id": "KCG5Zp9KVwyr"
      }
    },
    {
      "cell_type": "code",
      "source": [
        "from autogen.coding import LocalCommandLineCodeExecutor\n",
        "from langchain.text_splitter import RecursiveCharacterTextSplitter\n",
        "from qdrant_client import QdrantClient\n",
        "from autogen.agentchat.contrib.retrieve_assistant_agent import RetrieveAssistantAgent\n",
        "from autogen.agentchat.contrib.retrieve_user_proxy_agent import RetrieveUserProxyAgent\n",
        "from autogen.agentchat.contrib.qdrant_retrieve_user_proxy_agent import QdrantRetrieveUserProxyAgent\n",
        "import autogen"
      ],
      "metadata": {
        "id": "UY0wZuD0YZy7"
      },
      "execution_count": 469,
      "outputs": []
    },
    {
      "cell_type": "markdown",
      "source": [
        "## Splitter"
      ],
      "metadata": {
        "id": "2CkRYXPdVy2O"
      }
    },
    {
      "cell_type": "code",
      "source": [
        "splitter = RecursiveCharacterTextSplitter(\n",
        "    chunk_size=1000,\n",
        "    chunk_overlap=100,\n",
        "    separators=[\"\\n\"]\n",
        ")"
      ],
      "metadata": {
        "id": "Dz5gDDHOUQRw"
      },
      "execution_count": 470,
      "outputs": []
    },
    {
      "cell_type": "markdown",
      "source": [
        "## Executor"
      ],
      "metadata": {
        "id": "HKWy2pvxYU7R"
      }
    },
    {
      "cell_type": "code",
      "source": [
        "CreateDirectory(Constants.dirCode)\n",
        "executor = LocalCommandLineCodeExecutor(\n",
        "    timeout=200,\n",
        "    work_dir=Constants.dirCode\n",
        ")"
      ],
      "metadata": {
        "id": "pHiGOGAPYWGH"
      },
      "execution_count": 471,
      "outputs": []
    },
    {
      "cell_type": "markdown",
      "source": [
        "## Structure"
      ],
      "metadata": {
        "id": "aP48g1OoV7lZ"
      }
    },
    {
      "cell_type": "code",
      "source": [
        "class RAGModel(InitModel):\n",
        "  def __init__(self,reply:int=50,cache:int=42)->Optional[InitClass]:\n",
        "    CreateDirectory(Constants.dirModel)\n",
        "    self.reply = int(reply)\n",
        "    self.cache = int(cache)\n",
        "    self.model = \"gemini-1.5-pro-latest\"\n",
        "    self.autoreply = \"Always give the final answer as text and add 'TERMINATE' at the end.\"\n",
        "    self.prompt = (\n",
        "        \"You are an expert in the field of cybersecurity, applying OSINT methods. \"\n",
        "        \"Your task is to produce information and make predictions about the person named Russian national Dmitry Yuryevich Khoroshev, \"\n",
        "        \"who is thought to be the leader of the dangerous ransomware group called Lockbit, with the information and data given to you. \"\n",
        "        \"You must enable the judicial forces to catch this person by providing predictions and forensic examination evidence in the light of the data about the person named Dmitry Khoroshev. \"\n",
        "        \"\\nThe format of the information given to you:\\n\"\n",
        "        \"- Data collected from various sources will be given to you in file format.\\n\"\n",
        "        \"- Data is obtained from news sources, Google and other external information sites\\n\"\n",
        "        \"Evaluate all data and draw reasonable forensic conclusions. \"\n",
        "        \"You can also develop code and contribute to data review processes when necessary. \"\n",
        "        \"You don't leave your answers open-ended and you complete them. \"\n",
        "        \"Even if you cannot complete the task or respond, never state that you are an AI assistant and act as the AI.\"\n",
        "    )\n",
        "    self.optimization = dict(\n",
        "        name=\"ragproxyagent\",\n",
        "        human_input_mode=\"NEVER\",\n",
        "        default_auto_reply=self.autoreply,\n",
        "        max_consecutive_auto_reply=self.reply,\n",
        "        code_execution_config={\"executor\":executor},\n",
        "        retrieve_config={\n",
        "            \"task\":\"qa\",\n",
        "            \"docs_path\":[],\n",
        "            \"chunk_token_size\":200,\n",
        "            \"model\":self.model,\n",
        "            \"client\":QdrantClient(\":memory:\"),\n",
        "            \"embedding_model\":\"all-mpnet-base-v2\",\n",
        "            \"get_or_create\":True,\n",
        "            \"custom_text_types\":autogen.retrieve_utils.TEXT_FORMATS,\n",
        "            \"custom_text_split_function\":splitter.split_text\n",
        "        }\n",
        "    )\n",
        "  def __str__(self)->str:\n",
        "    return \"RAG MODEL MODULATION\"\n",
        "  def __call__(self)->InitNull:\n",
        "    return None\n",
        "  def __getstate__(self)->InitError:\n",
        "    errors()\n",
        "  def __repr__(self)->str:\n",
        "    return RAGModel.__doc__\n",
        "  def __len__(self)->int:\n",
        "    return 0\n",
        "  def GetDirectory(self,directory:str=Constants.dirDoc)->Union[list,InitProcess]:\n",
        "    docs = []\n",
        "    if (os.path.exists(directory)) and (len(os.listdir(directory)) > 0):\n",
        "      for base,_,files in os.walk(directory):\n",
        "        for f in files:\n",
        "          path = os.path.join(base,f)\n",
        "          docs.append(path)\n",
        "    return docs\n",
        "  def GetAssistant(self)->InitModel:\n",
        "    assistantRAG = RetrieveAssistantAgent(\n",
        "        name=\"ragassistant\",\n",
        "        system_message=self.prompt,\n",
        "        llm_config={\"timeout\":300,\"cache_seed\":self.cache,\"config_list\":configurationAUTOGEN}\n",
        "    )\n",
        "    return assistantRAG\n",
        "  def GetProxy(self,documents:Union[str,list])->InitModel:\n",
        "    if isinstance(documents,str): documents = [documents]\n",
        "    if len(documents) > 0:\n",
        "      for doc in documents:\n",
        "        self.optimization[\"retrieve_config\"][\"docs_path\"].append(str(doc))\n",
        "    proxy = QdrantRetrieveUserProxyAgent(**self.optimization)\n",
        "    return proxy"
      ],
      "metadata": {
        "id": "EfDR8-wBV6bC"
      },
      "execution_count": 472,
      "outputs": []
    },
    {
      "cell_type": "code",
      "source": [
        "ragModel = RAGModel()\n",
        "ragAssistant = ragModel.GetAssistant()"
      ],
      "metadata": {
        "id": "IeYEmESmbPE1"
      },
      "execution_count": 473,
      "outputs": []
    },
    {
      "cell_type": "markdown",
      "source": [
        "# Agent Tools"
      ],
      "metadata": {
        "id": "UFo7Z1_hcA-l"
      }
    },
    {
      "cell_type": "code",
      "source": [
        "from langchain.pydantic_v1 import BaseModel,Field\n",
        "from langchain.tools import BaseTool"
      ],
      "metadata": {
        "id": "VmLcW2wwgh59"
      },
      "execution_count": 474,
      "outputs": []
    },
    {
      "cell_type": "markdown",
      "source": [
        "## Tool Inputs"
      ],
      "metadata": {
        "id": "vyWN2PxLcDk5"
      }
    },
    {
      "cell_type": "code",
      "source": [
        "class GoogleToolInput(BaseModel):\n",
        "  topic:Optional[str] = Field(description=\"Topic to search on Google\")\n",
        "  sites:Optional[str] = Field(description=\"Sites to target when searching on Google\")"
      ],
      "metadata": {
        "id": "L8S8147tbpPT"
      },
      "execution_count": 475,
      "outputs": []
    },
    {
      "cell_type": "code",
      "source": [
        "class NewsToolInput(BaseModel):\n",
        "  urls:Optional[list] = Field(description=\"URL list to obtain news\")"
      ],
      "metadata": {
        "id": "9XS6s7mMgy9b"
      },
      "execution_count": 476,
      "outputs": []
    },
    {
      "cell_type": "code",
      "source": [
        "class HtmlToolInput(BaseModel):\n",
        "  urls:Optional[list] = Field(description=\"List of URLs to obtain HTML content\")"
      ],
      "metadata": {
        "id": "ajfB0K-UhQhy"
      },
      "execution_count": 477,
      "outputs": []
    },
    {
      "cell_type": "code",
      "source": [
        "class RAGToolInput(BaseModel):\n",
        "  question:Optional[str] = Field(description=\"Question to be answered using the information in the uploaded documents\")"
      ],
      "metadata": {
        "id": "otm-5J0Ohiei"
      },
      "execution_count": 478,
      "outputs": []
    },
    {
      "cell_type": "code",
      "source": [
        "class String2ListToolInput(BaseModel):\n",
        "  message:Optional[str] = Field(description=\"String message containing a list array\")"
      ],
      "metadata": {
        "id": "F52xs9_SnzH7"
      },
      "execution_count": 479,
      "outputs": []
    },
    {
      "cell_type": "markdown",
      "source": [
        "## Tool Structures"
      ],
      "metadata": {
        "id": "jsWk4rk0h3GD"
      }
    },
    {
      "cell_type": "code",
      "source": [
        "class GoogleSearchTool(BaseTool):\n",
        "  name = \"Google_Search_Tool\"\n",
        "  description = \"Use this tool to research the topic on Google\"\n",
        "  args_schema = GoogleToolInput\n",
        "  def _run(self,topic:Optional[str],sites:Optional[str]=None)->Union[list,InitProcess]:\n",
        "    lists = gSearch.Query(str(topic),sites=sites)\n",
        "    return lists"
      ],
      "metadata": {
        "id": "8rrCjxFrh1Yp"
      },
      "execution_count": 480,
      "outputs": []
    },
    {
      "cell_type": "code",
      "source": [
        "class NewsSearchTool(BaseTool):\n",
        "  name = \"News_Search_Tool\"\n",
        "  description = \"Use this tool to get news content from the url list given to you\"\n",
        "  args_schema = NewsToolInput\n",
        "  def _run(self,urls:Optional[list])->Union[bool,InitProcess]:\n",
        "    isDone = hSearch.Query(list)\n",
        "    return isDone"
      ],
      "metadata": {
        "id": "shL_4a2Aic71"
      },
      "execution_count": 481,
      "outputs": []
    },
    {
      "cell_type": "code",
      "source": [
        "class HtmlSearchTool(BaseTool):\n",
        "  name = \"Html_Search_Tool\"\n",
        "  description = \"Use this tool to get HTML content from the url given to you\"\n",
        "  args_schema = HtmlToolInput\n",
        "  def _run(self,urls:Optional[list])->Union[list,InitProcess]:\n",
        "    lists = hSearch.Query(urls)\n",
        "    return lists"
      ],
      "metadata": {
        "id": "bbKj3W3Ri8NG"
      },
      "execution_count": 482,
      "outputs": []
    },
    {
      "cell_type": "code",
      "source": [
        "class RagModelTool(BaseTool):\n",
        "  name = \"Retrieve_Information_Model_Tool\"\n",
        "  description = \"Use this tool to generate answers using information from uploaded files\"\n",
        "  args_schema = RAGToolInput\n",
        "  def _run(self,question:Optional[str])->Union[str,InitProcess]:\n",
        "    documents = ragModel.GetDirectory()\n",
        "    proxy = ragModel.GetProxy(documents)\n",
        "    print(f\"[:: FROM SYSTEM ::] RAG - ACTIVE : {len(documents)} TOTAL DOCUMENTS IN SYSTEM DIRECTORY\")\n",
        "    response = proxy.initiate_chat(ragAssistant,message=proxy.message_generator,problem=str(question))\n",
        "    try:\n",
        "      if len(response.chat_history) > 0:\n",
        "        content = response.summary\n",
        "        if content.upper() == \"TERMINATE\":\n",
        "          content = response.chat_history[-1][\"content\"]\n",
        "    except:\n",
        "      if len(response.chat_history) > 0:\n",
        "        content = response.chat_history[-1][\"content\"]\n",
        "    return content"
      ],
      "metadata": {
        "id": "EBs5tPJW52_4"
      },
      "execution_count": 483,
      "outputs": []
    },
    {
      "cell_type": "code",
      "source": [
        "class String2ListTool(BaseTool):\n",
        "  name = \"String_To_List_Tool\"\n",
        "  description = \"Use this tool to convert the array given as a string into a list type\"\n",
        "  args_schema = String2ListToolInput\n",
        "  def _run(self,message:Optional[str])->Union[list,InitProcess]:\n",
        "    isList = Str2List(str(message))\n",
        "    return isList"
      ],
      "metadata": {
        "id": "FTuHNglGn85a"
      },
      "execution_count": 484,
      "outputs": []
    },
    {
      "cell_type": "markdown",
      "source": [
        "## Tool List"
      ],
      "metadata": {
        "id": "JFIDjnQUjeM5"
      }
    },
    {
      "cell_type": "code",
      "source": [
        "tools = [GoogleSearchTool(),NewsSearchTool(),HtmlSearchTool(),RagModelTool(),String2ListTool()]"
      ],
      "metadata": {
        "id": "Fb2Qhn2ejaF6"
      },
      "execution_count": 485,
      "outputs": []
    },
    {
      "cell_type": "markdown",
      "source": [
        "# Configuration Process"
      ],
      "metadata": {
        "id": "MZmxFM2-jzG7"
      }
    },
    {
      "cell_type": "markdown",
      "source": [
        "## System File"
      ],
      "metadata": {
        "id": "a7iWVjTXlKst"
      }
    },
    {
      "cell_type": "code",
      "source": [
        "sysFile = dict(\n",
        "    config_list=configurationAUTOGEN,\n",
        "    functions=[],\n",
        "    timeout=300,\n",
        "    temperature=0.2\n",
        ")"
      ],
      "metadata": {
        "id": "IWmxK2rZlL0a"
      },
      "execution_count": 486,
      "outputs": []
    },
    {
      "cell_type": "markdown",
      "source": [
        "## Functions"
      ],
      "metadata": {
        "id": "gNlQfGeUj1kn"
      }
    },
    {
      "cell_type": "code",
      "source": [
        "def ToolDefine(base:Union[InitClass,BaseTool])->dict:\n",
        "  schema:dict = {\n",
        "      \"name\":KeyControl(base),\n",
        "      \"description\":base.description,\n",
        "      \"parameters\":{\n",
        "          \"type\":\"object\",\n",
        "          \"properties\":{},\n",
        "          \"required\":[]\n",
        "      }\n",
        "  }\n",
        "  if base.args is not None:\n",
        "    schema[\"parameters\"][\"properties\"] = base.args\n",
        "  else:\n",
        "    pass\n",
        "  return schema"
      ],
      "metadata": {
        "id": "M2oq44Agjjje"
      },
      "execution_count": 487,
      "outputs": []
    },
    {
      "cell_type": "code",
      "source": [
        "def ConfigurationDefine(sysFile:dict,base:Union[InitClass,BaseTool])->dict:\n",
        "  sysFile[\"functions\"].append(ToolDefine(base))"
      ],
      "metadata": {
        "id": "_IcSLOoXkyXr"
      },
      "execution_count": 488,
      "outputs": []
    },
    {
      "cell_type": "markdown",
      "source": [
        "## Progress"
      ],
      "metadata": {
        "id": "UWsu3rqflXq0"
      }
    },
    {
      "cell_type": "code",
      "source": [
        "for tool in tools: ConfigurationDefine(sysFile,tool)"
      ],
      "metadata": {
        "id": "iJq4M7p6lcQO"
      },
      "execution_count": 489,
      "outputs": []
    },
    {
      "cell_type": "markdown",
      "source": [
        "# Agent & Proxy Optimization"
      ],
      "metadata": {
        "id": "XY96SOXmlpHD"
      }
    },
    {
      "cell_type": "markdown",
      "source": [
        "## Proxy Optimization"
      ],
      "metadata": {
        "id": "KJxUPrJNl8Lb"
      }
    },
    {
      "cell_type": "code",
      "source": [
        "proxyOptimization = dict(\n",
        "    name=\"user_proxy\",\n",
        "    human_input_mode=\"NEVER\",\n",
        "    max_consecutive_auto_reply=50,\n",
        "    is_termination_msg=IsTerminated,\n",
        "    code_execution_config={\"executor\":executor}\n",
        ")"
      ],
      "metadata": {
        "id": "lR0K8sqhllHJ"
      },
      "execution_count": 490,
      "outputs": []
    },
    {
      "cell_type": "markdown",
      "source": [
        "## Agent Optimization"
      ],
      "metadata": {
        "id": "mjU43KrWm7om"
      }
    },
    {
      "cell_type": "code",
      "source": [
        "agentCommand = (\n",
        "    \"You are an expert in the field of cybersecurity, applying OSINT methods. \"\n",
        "    \"Your task is to produce information and make predictions about the person named Russian national Dmitry Yuryevich Khoroshev, \"\n",
        "    \"who is thought to be the leader of the dangerous ransomware group called Lockbit, with the information and data given to you. \"\n",
        "    \"You must enable the judicial forces to catch this person by providing predictions and forensic examination evidence in the light of the data about the person named Dmitry Khoroshev. \"\n",
        "    \"\\nThe format of the information given to you:\\n\"\n",
        "    \"- Data collected from various sources will be given to you in file format.\\n\"\n",
        "    \"- Data is obtained from news sources, Google and other external information sites.\\n\"\n",
        "    \"\\nInstructions on how to use the tools:\\n\"\n",
        "    \"1- The following tools are defined for you to use: 'Google_Search_Tool', 'News_Search_Tool', 'Html_Search_Tool', 'Retrieve_Information_Model_Tool','String_To_List_Tool'\\n\"\n",
        "    \"2- First of all, always use the 'Retrieve_Information_Model_Tool' tool and add it to your answer.\\n\"\n",
        "    \"3- Create search keywords from documents to use 'Google_Search_Tool'.\\n\"\n",
        "    \"4- While you can use each tool alone when necessary, you can also use all of them together to create a comprehensive answer.\\n\"\n",
        "    \"5- If array is given as string, always use 'String_To_List_Tool' tool before transferring the answer to other tools.\\n\"\n",
        "    \"Evaluate all data and draw reasonable forensic conclusions. \"\n",
        "    \"You can also develop code and contribute to data review processes when necessary. \"\n",
        "    \"You don't leave your answers open-ended and you complete them. \"\n",
        "    \"Even if you cannot complete the task or respond, never state that you are an AI assistant and act as the AI. \"\n",
        "    \"If you have created the answer completely, reply TERMINATE. \"\n",
        "    \"Otherwise, reply CONTINUE, or the reason why the task is not solved yet.\"\n",
        ")"
      ],
      "metadata": {
        "id": "UKb6hAmbmFWs"
      },
      "execution_count": 491,
      "outputs": []
    },
    {
      "cell_type": "markdown",
      "source": [
        "# User Parameters"
      ],
      "metadata": {
        "id": "ty99bAEupXoz"
      }
    },
    {
      "cell_type": "markdown",
      "source": [
        "> `INFO`: **User can use \"SELECTIONS\" layer**\n",
        "\n",
        "> `INFO`: **It is recommended that you read the instructions followed by '#' in the code.**\n",
        "\n",
        "> `WARNING`: **Every parameter you change here affects the response quality. Upload it after checking that the data you have provided is valid and suitable for your purpose.**"
      ],
      "metadata": {
        "id": "cpnvXFpev_NZ"
      }
    },
    {
      "cell_type": "markdown",
      "source": [
        "> `INFO`: **These are the documents that will be accepted as evidence files:**\n",
        "\n",
        "- txt\n",
        "- json\n",
        "- csv\n",
        "- tsv\n",
        "- md\n",
        "- html\n",
        "- htm\n",
        "- rtf\n",
        "- rst\n",
        "- jsonl\n",
        "- log\n",
        "- xml\n",
        "- yaml\n",
        "- yml\n",
        "- pdf"
      ],
      "metadata": {
        "id": "a2dO0-ExFIJc"
      }
    },
    {
      "cell_type": "markdown",
      "source": [
        "## Selections"
      ],
      "metadata": {
        "id": "MRWSzq_WpZMy"
      }
    },
    {
      "cell_type": "code",
      "source": [
        "# Scope power parameter to be used to obtain information over the internet\n",
        "SEARCH_POWER = 4 # @param {type:\"slider\", min:0, max:30, step:1}\n",
        "\n",
        "# Parameters for determining the reply capability of the model itself\n",
        "REPLY_SEARCH_LIMIT = 50 # @param {type:\"slider\", min:50, max:100, step:1}\n",
        "\n",
        "# Parameter that affects the ongoing conversation of the model\n",
        "## NEVER: One question and one answer, model stops the conversation\n",
        "## ALWAYS: Interaction with the model continues and the conversation continues until exit\n",
        "INTERACTION_LEVEL = 'NEVER' # @param [\"NEVER\", \"ALWAYS\"] {allow-input: true}\n",
        "\n",
        "# Sites to target when searching on Google, for example: ['nytimes.com']\n",
        "## Leave it as 'None' for global search\n",
        "### When you want to target multiple sites, you must create a python list\n",
        "#### for multiple sites, ['nytimes.com','washingtontimes.com','theguardian.com','tass.com']\n",
        "TARGET_SEARCH_SITES = ['theguardian.com'] # @param {type:\"raw\"}\n",
        "\n",
        "# Directory of uploaded additional data\n",
        "## Main directory is '/content/user_data_directory'\n",
        "### Upload your evidence data here, '/content/user_data_directory'\n",
        "CreateDirectory(Constants.dirOut)\n",
        "DATA_FILE_LOCATION = \"/content/user_data_directory\" # @param {type:\"string\"}"
      ],
      "metadata": {
        "id": "NsbkV2uRpKMq"
      },
      "execution_count": 506,
      "outputs": []
    },
    {
      "cell_type": "markdown",
      "source": [
        "> `WARNING`: **User input required**"
      ],
      "metadata": {
        "id": "pQp1gFA8RKV7"
      }
    },
    {
      "cell_type": "code",
      "source": [
        "# You can place links containing direct evidence content in this list.\n",
        "## If you define this list as None, the process continues by default.\n",
        "\"\"\"\n",
        "EXAMPLE:\n",
        "\n",
        "TARGET_CONTENT_LINKS = [\n",
        "    \"https://www.wired.com/story/lockbitsupp-lockbit-ransomware/\",\n",
        "    \"https://www.reuters.com/technology/cybersecurity/uk-allies-sanction-russian-leader-lockbit-cybercrime-gang-2024-05-07/\",\n",
        "    \"https://www.cnbc.com/2024/05/07/russian-charged-in-lockbit-ransomware-crimes-10-million-reward.html\"\n",
        "]\n",
        "\n",
        "\"\"\"\n",
        "TARGET_CONTENT_LINKS = None"
      ],
      "metadata": {
        "id": "FOivtQgYQuM2"
      },
      "execution_count": 507,
      "outputs": []
    },
    {
      "cell_type": "markdown",
      "source": [
        "## Operations"
      ],
      "metadata": {
        "id": "6O_JnvBztFkC"
      }
    },
    {
      "cell_type": "code",
      "source": [
        "isDataOK = TransferFilesToDirectory(DATA_FILE_LOCATION)\n",
        "print(f\"[:: FROM SYSTEM ::] DATA TRANSFER PROCESS --> {isDataOK}\")"
      ],
      "metadata": {
        "colab": {
          "base_uri": "https://localhost:8080/"
        },
        "id": "nlb5AQFssEvX",
        "outputId": "a83a1a5f-7430-4691-b380-d8aa61b359b8"
      },
      "execution_count": 508,
      "outputs": [
        {
          "output_type": "stream",
          "name": "stdout",
          "text": [
            "[:: FROM SYSTEM ::] DATA TRANSFER PROCESS --> True\n"
          ]
        }
      ]
    },
    {
      "cell_type": "code",
      "source": [
        "proxyOptimization[\"human_input_mode\"] = INTERACTION_LEVEL\n",
        "proxyOptimization[\"max_consecutive_auto_reply\"] = REPLY_SEARCH_LIMIT\n",
        "gSearch.power = SEARCH_POWER"
      ],
      "metadata": {
        "id": "l5QZ0vxzt-Qw"
      },
      "execution_count": 509,
      "outputs": []
    },
    {
      "cell_type": "code",
      "source": [
        "if TARGET_SEARCH_SITES is not None:\n",
        "  if isinstance(TARGET_SEARCH_SITES,str):\n",
        "    try:\n",
        "      TARGET_SEARCH_SITES = Str2List(str(TARGET_SEARCH_SITES))\n",
        "    except:\n",
        "      pass\n",
        "  else:\n",
        "    pass\n",
        "else:\n",
        "  pass"
      ],
      "metadata": {
        "id": "flmNOIDM0Bzr"
      },
      "execution_count": 510,
      "outputs": []
    },
    {
      "cell_type": "code",
      "source": [
        "if TARGET_CONTENT_LINKS is not None:\n",
        "  try:\n",
        "    nSearch.Query(TARGET_CONTENT_LINKS)\n",
        "  except:\n",
        "    pass\n",
        "  try:\n",
        "    hSearch.Query(TARGET_CONTENT_LINKS)\n",
        "  except:\n",
        "    pass"
      ],
      "metadata": {
        "id": "nQPCE3I0RYX0"
      },
      "execution_count": 511,
      "outputs": []
    },
    {
      "cell_type": "markdown",
      "source": [
        "# Agent & Proxy Base"
      ],
      "metadata": {
        "id": "VtTlGCPUu9gq"
      }
    },
    {
      "cell_type": "markdown",
      "source": [
        "## Proxy Callback"
      ],
      "metadata": {
        "id": "dp-zBWyI5s0h"
      }
    },
    {
      "cell_type": "code",
      "source": [
        "def ResponseCallback(sender:InitClass,recipient:InitClass,context:Union[InitClass,dict])->str:\n",
        "  targetSites = context.get(\"target_sites\",None)\n",
        "  question = context.get(\"to_rag_question\",None)\n",
        "  endMessage = (\n",
        "      \"Reply TERMINATE if the task has been solved at full satisfaction. \"\n",
        "      \"Otherwise, reply CONTINUE, or the reason why the task is not solved yet.\"\n",
        "  )\n",
        "  command = (\n",
        "      \"You are an expert in the field of cybersecurity, applying OSINT methods. \"\n",
        "      \"Your task is to produce information and make predictions about the person named Russian national Dmitry Yuryevich Khoroshev, \"\n",
        "      \"who is thought to be the leader of the dangerous ransomware group called Lockbit, with the information and data given to you. \"\n",
        "      \"You must enable the judicial forces to catch this person by providing predictions and forensic examination evidence in the light of the data about the person named Dmitry Khoroshev. \"\n",
        "      \"Evaluate all data and draw reasonable forensic conclusions. \"\n",
        "      \"You can also develop code and contribute to data review processes when necessary.\\n\"\n",
        "\n",
        "  )\n",
        "  if question is not None:\n",
        "    command += (\n",
        "        \"This is the question you can pass to the 'Retrieve_Information_Model_Tool' tool and get information from the documentation:\\n\"\n",
        "        f\"'{str(question)}'\\n\"\n",
        "    )\n",
        "  if targetSites is not None:\n",
        "    command += (\n",
        "        \"The sites you can research using the 'Google_Search_Tool' tool are:\\n\"\n",
        "        f\"{targetSites}\\n\"\n",
        "    )\n",
        "  command += (\n",
        "      \"You don't leave your answers open-ended and you complete them. \"\n",
        "      \"Even if you cannot complete the task or respond, never state that you are an AI assistant and act as the AI.\"\n",
        "  )\n",
        "  command += endMessage\n",
        "  return command\n",
        ""
      ],
      "metadata": {
        "id": "vR1eraui5u1G"
      },
      "execution_count": 512,
      "outputs": []
    },
    {
      "cell_type": "markdown",
      "source": [
        "## Agent Base"
      ],
      "metadata": {
        "id": "ZCHm5HHwpK1i"
      }
    },
    {
      "cell_type": "code",
      "source": [
        "agent = autogen.AssistantAgent(\n",
        "    name=\"assistant\",\n",
        "    system_message=agentCommand,\n",
        "    llm_config=sysFile\n",
        ")"
      ],
      "metadata": {
        "id": "l9v0EWyto6zm"
      },
      "execution_count": 513,
      "outputs": []
    },
    {
      "cell_type": "markdown",
      "source": [
        "## Proxy Base"
      ],
      "metadata": {
        "id": "NwAzCeUN-ljo"
      }
    },
    {
      "cell_type": "code",
      "source": [
        "proxy = autogen.UserProxyAgent(**proxyOptimization)"
      ],
      "metadata": {
        "id": "SIbYKL-mvAO2"
      },
      "execution_count": 514,
      "outputs": []
    },
    {
      "cell_type": "code",
      "source": [
        "for tool in tools:\n",
        "  proxy.register_function(\n",
        "      function_map={\n",
        "          tool.name:tool._run\n",
        "      }\n",
        "  )"
      ],
      "metadata": {
        "id": "zv6YgjUG_1li"
      },
      "execution_count": 515,
      "outputs": []
    },
    {
      "cell_type": "markdown",
      "source": [
        "# Launch"
      ],
      "metadata": {
        "id": "i1BXoizL-1E2"
      }
    },
    {
      "cell_type": "markdown",
      "source": [
        "## Investigation"
      ],
      "metadata": {
        "id": "Pqe1ocNb-2PM"
      }
    },
    {
      "cell_type": "code",
      "source": [
        "# Forensic research question you should ask here\n",
        "QUESTION = \"Who is Dmitry Yuryevich Khoroshev?\" # @param {type:\"string\"}"
      ],
      "metadata": {
        "id": "hVIds3Fk-zGd"
      },
      "execution_count": 516,
      "outputs": []
    },
    {
      "cell_type": "markdown",
      "source": [
        "> `INFO`: **The process may take longer depending on the length and number of documents you upload.**\n",
        "\n",
        "> `WARNING`: **It is recommended that you upload a maximum of 20 documents.**"
      ],
      "metadata": {
        "id": "qHqeClsDEiBZ"
      }
    },
    {
      "cell_type": "markdown",
      "source": [
        "> `INFO`: **It is recommended that you follow the live stream outputs; most of the time, useful information emerges during the process.**"
      ],
      "metadata": {
        "id": "J_PSNTdCLrlN"
      }
    },
    {
      "cell_type": "markdown",
      "source": [
        "> `INFO`: **If 'INTERACTION_LEVEL' is set to 'ALWAYS', the model waits for a response from you.**"
      ],
      "metadata": {
        "id": "0jlL_UxdL8Cl"
      }
    },
    {
      "cell_type": "code",
      "source": [
        "investigation = proxy.initiate_chat(\n",
        "    recipient=agent,\n",
        "    llm_config=sysFile,\n",
        "    handle_tool_error=True,\n",
        "    clear_history=False,\n",
        "    summary_method=\"reflection_with_llm\",\n",
        "    message=ResponseCallback,\n",
        "    target_sites=TARGET_SEARCH_SITES,\n",
        "    to_rag_question=QUESTION\n",
        ")"
      ],
      "metadata": {
        "colab": {
          "base_uri": "https://localhost:8080/"
        },
        "id": "fmdUEk42-9Pa",
        "outputId": "eecf6166-9b2b-4ba1-ef54-716913b6db1f"
      },
      "execution_count": 517,
      "outputs": [
        {
          "output_type": "stream",
          "name": "stdout",
          "text": [
            "user_proxy (to assistant):\n",
            "\n",
            "You are an expert in the field of cybersecurity, applying OSINT methods. Your task is to produce information and make predictions about the person named Russian national Dmitry Yuryevich Khoroshev, who is thought to be the leader of the dangerous ransomware group called Lockbit, with the information and data given to you. You must enable the judicial forces to catch this person by providing predictions and forensic examination evidence in the light of the data about the person named Dmitry Khoroshev. Evaluate all data and draw reasonable forensic conclusions. You can also develop code and contribute to data review processes when necessary.\n",
            "This is the question you can pass to the 'Retrieve_Information_Model_Tool' tool and get information from the documentation:\n",
            "'Who is Dmitry Yuryevich Khoroshev?'\n",
            "The sites you can research using the 'Google_Search_Tool' tool are:\n",
            "['theguardian.com']\n",
            "You don't leave your answers open-ended and you complete them. Even if you cannot complete the task or respond, never state that you are an AI assistant and act as the AI.Reply TERMINATE if the task has been solved at full satisfaction. Otherwise, reply CONTINUE, or the reason why the task is not solved yet.\n",
            "\n",
            "--------------------------------------------------------------------------------\n",
            "assistant (to user_proxy):\n",
            "\n",
            "***** Suggested function call: Retrieve_Information_Model_Tool *****\n",
            "Arguments: \n",
            "{\"question\":\"Who is Dmitry Yuryevich Khoroshev?\"}\n",
            "********************************************************************\n",
            "\n",
            "--------------------------------------------------------------------------------\n",
            "\n",
            ">>>>>>>> EXECUTING FUNCTION Retrieve_Information_Model_Tool...\n",
            "[:: FROM SYSTEM ::] RAG - ACTIVE : 8 TOTAL DOCUMENTS IN SYSTEM DIRECTORY\n",
            "Trying to create collection.\n"
          ]
        },
        {
          "output_type": "stream",
          "name": "stderr",
          "text": [
            "2024-05-08 13:08:38,215 - autogen.agentchat.contrib.qdrant_retrieve_user_proxy_agent - INFO - Found 533 chunks.\n",
            "WARNING:autogen.token_count_utils:Model gemini-1.5-pro-latest not found. Using cl100k_base encoding.\n"
          ]
        },
        {
          "output_type": "stream",
          "name": "stdout",
          "text": [
            "Adding content of doc 372 to context.\n"
          ]
        },
        {
          "output_type": "stream",
          "name": "stderr",
          "text": [
            "WARNING:autogen.token_count_utils:Model gemini-1.5-pro-latest not found. Using cl100k_base encoding.\n"
          ]
        },
        {
          "output_type": "stream",
          "name": "stdout",
          "text": [
            "Adding content of doc 106 to context.\n"
          ]
        },
        {
          "output_type": "stream",
          "name": "stderr",
          "text": [
            "WARNING:autogen.token_count_utils:Model gemini-1.5-pro-latest not found. Using cl100k_base encoding.\n"
          ]
        },
        {
          "output_type": "stream",
          "name": "stdout",
          "text": [
            "Adding content of doc 107 to context.\n"
          ]
        },
        {
          "output_type": "stream",
          "name": "stderr",
          "text": [
            "WARNING:autogen.token_count_utils:Model gemini-1.5-pro-latest not found. Using cl100k_base encoding.\n"
          ]
        },
        {
          "output_type": "stream",
          "name": "stdout",
          "text": [
            "Adding content of doc 373 to context.\n"
          ]
        },
        {
          "output_type": "stream",
          "name": "stderr",
          "text": [
            "WARNING:autogen.token_count_utils:Model gemini-1.5-pro-latest not found. Using cl100k_base encoding.\n"
          ]
        },
        {
          "output_type": "stream",
          "name": "stdout",
          "text": [
            "Adding content of doc 290 to context.\n"
          ]
        },
        {
          "output_type": "stream",
          "name": "stderr",
          "text": [
            "WARNING:autogen.token_count_utils:Model gemini-1.5-pro-latest not found. Using cl100k_base encoding.\n"
          ]
        },
        {
          "output_type": "stream",
          "name": "stdout",
          "text": [
            "Adding content of doc 24 to context.\n"
          ]
        },
        {
          "output_type": "stream",
          "name": "stderr",
          "text": [
            "WARNING:autogen.token_count_utils:Model gemini-1.5-pro-latest not found. Using cl100k_base encoding.\n"
          ]
        },
        {
          "output_type": "stream",
          "name": "stdout",
          "text": [
            "Adding content of doc 29 to context.\n"
          ]
        },
        {
          "output_type": "stream",
          "name": "stderr",
          "text": [
            "WARNING:autogen.token_count_utils:Model gemini-1.5-pro-latest not found. Using cl100k_base encoding.\n"
          ]
        },
        {
          "output_type": "stream",
          "name": "stdout",
          "text": [
            "Adding content of doc 295 to context.\n"
          ]
        },
        {
          "output_type": "stream",
          "name": "stderr",
          "text": [
            "WARNING:autogen.token_count_utils:Model gemini-1.5-pro-latest not found. Using cl100k_base encoding.\n"
          ]
        },
        {
          "output_type": "stream",
          "name": "stdout",
          "text": [
            "Adding content of doc 283 to context.\n"
          ]
        },
        {
          "output_type": "stream",
          "name": "stderr",
          "text": [
            "WARNING:autogen.token_count_utils:Model gemini-1.5-pro-latest not found. Using cl100k_base encoding.\n"
          ]
        },
        {
          "output_type": "stream",
          "name": "stdout",
          "text": [
            "Adding content of doc 17 to context.\n"
          ]
        },
        {
          "output_type": "stream",
          "name": "stderr",
          "text": [
            "WARNING:autogen.token_count_utils:Model gemini-1.5-pro-latest not found. Using cl100k_base encoding.\n"
          ]
        },
        {
          "output_type": "stream",
          "name": "stdout",
          "text": [
            "Adding content of doc 116 to context.\n"
          ]
        },
        {
          "output_type": "stream",
          "name": "stderr",
          "text": [
            "WARNING:autogen.token_count_utils:Model gemini-1.5-pro-latest not found. Using cl100k_base encoding.\n"
          ]
        },
        {
          "output_type": "stream",
          "name": "stdout",
          "text": [
            "Adding content of doc 383 to context.\n"
          ]
        },
        {
          "output_type": "stream",
          "name": "stderr",
          "text": [
            "WARNING:autogen.token_count_utils:Model gemini-1.5-pro-latest not found. Using cl100k_base encoding.\n"
          ]
        },
        {
          "output_type": "stream",
          "name": "stdout",
          "text": [
            "ragproxyagent (to ragassistant):\n",
            "\n",
            "You're a retrieve augmented chatbot. You answer user's questions based on your own knowledge and the\n",
            "context provided by the user.\n",
            "If you can't answer the question with or without the current context, you should reply exactly `UPDATE CONTEXT`.\n",
            "You must give as short an answer as possible.\n",
            "\n",
            "User's question is: Who is Dmitry Yuryevich Khoroshev?\n",
            "\n",
            "Context is: And let me be clear:  as I said in February,  my office remains determined to hold every \n",
            "LockBit conspirator accountable. Law enforcement agencies around the world continue  to work \n",
            "together to carefully analyze LockBit ’s data and  infrastructure , including victim lists and \n",
            "documents which identify affiliates and other co- conspirators.  \n",
            " Shortly after the February 2024 disruption of LockBit, Khoroshev is alleged to have \n",
            "contacted law enforcement to offer his services in exchange for information regarding the identity of his ransomware competitors. As charged , Khoroshev intended to use this information \n",
            "to stifle his competition and restore LockBit’s primacy in the ransomware space. “Give me the \n",
            "names of my enemies,” he allegedly asked.    \n",
            "The tables have turned. Instead, t he Department of Justice has one name to disclose today \n",
            "in this unsealed i ndictment: and that is Dmitry Yuryevich Khoroshev.\n",
            "And let me be clear:  as I said in February,  my office remains determined to hold every \n",
            "LockBit conspirator accountable. Law enforcement agencies around the world continue  to work \n",
            "together to carefully analyze LockBit ’s data and  infrastructure , including victim lists and \n",
            "documents which identify affiliates and other co- conspirators.  \n",
            " Shortly after the February 2024 disruption of LockBit, Khoroshev is alleged to have \n",
            "contacted law enforcement to offer his services in exchange for information regarding the identity of his ransomware competitors. As charged , Khoroshev intended to use this information \n",
            "to stifle his competition and restore LockBit’s primacy in the ransomware space. “Give me the \n",
            "names of my enemies,” he allegedly asked.    \n",
            "The tables have turned. Instead, t he Department of Justice has one name to disclose today \n",
            "in this unsealed i ndictment: and that is Dmitry Yuryevich Khoroshev.\n",
            "in this unsealed i ndictment: and that is Dmitry Yuryevich Khoroshev.   \n",
            " I am also pleased to share that the State Department  is offering a reward of up to $10 \n",
            "million for information that lead s to Khoroshev ’s apprehension. T he Treasury Department’s \n",
            "Office of Foreign Assets Control has also designated Khoroshev for sanctions based on his role in the LockBit ransomware conspiracy.  \n",
            "To conclude, I want to commend the extraordinary investigative work of the prosecutors \n",
            "assigned t o this case – including Assistant U.S. Attorneys Andrew Trombly, David Malagold, and \n",
            "Vinay Limbachia, who led this investigation for my Office, and trial attorneys Jessica Peck, Debra Ireland, and Jorge Gonzalez from the Computer Crimes and Intellectual Pr operty Section \n",
            "of the Department of Justice – as well as the dedicated agents from the FBI.  \n",
            "Because of their work, an alleged cybercriminal no longer hides in the shadows —a\n",
            "in this unsealed i ndictment: and that is Dmitry Yuryevich Khoroshev.   \n",
            " I am also pleased to share that the State Department  is offering a reward of up to $10 \n",
            "million for information that lead s to Khoroshev ’s apprehension. T he Treasury Department’s \n",
            "Office of Foreign Assets Control has also designated Khoroshev for sanctions based on his role in the LockBit ransomware conspiracy.  \n",
            "To conclude, I want to commend the extraordinary investigative work of the prosecutors \n",
            "assigned t o this case – including Assistant U.S. Attorneys Andrew Trombly, David Malagold, and \n",
            "Vinay Limbachia, who led this investigation for my Office, and trial attorneys Jessica Peck, Debra Ireland, and Jorge Gonzalez from the Computer Crimes and Intellectual Pr operty Section \n",
            "of the Department of Justice – as well as the dedicated agents from the FBI.  \n",
            "Because of their work, an alleged cybercriminal no longer hides in the shadows —a\n",
            "2. From at least as early as in or around September 2019 through in or \n",
            "around May 2024, in the District of New Jersey and elsewhere, the defendant , \n",
            "DMITRY YURYEVICH KHOROSHEV (,[(MHTp11:u: IOpheB11q XopomeB), \n",
            "a/k/a \"LockBitSupp,\" \n",
            "a/k/a \"LockBit,\" \n",
            "a/k/a \"putinkrab,\" \n",
            "did knowingly and intentionally conspire with Matveev, Astamirov, Vasiliev, \n",
            "Sungatov, Kondratyev, and other Coconspirators to devise, and intend to devise, a \n",
            "scheme and artifice to defraud and to obtain money and property by means of \n",
            "materially false and fraudulent pretenses, representations, and promises, and, for \n",
            "the purpose of executing and attempting to execute such scheme and artifice to \n",
            "defraud, to knowingly transmit and cause to be transmitted by means of wire \n",
            "communications in interstate and foreign commerce, certain writings, signs, signals, \n",
            "pictures, and sounds, contrary to Title 18, United States Code, Section 1343. \n",
            "In violation of Title 18, United States Code, Section 1349.\n",
            "2. From at least as early as in or around September 2019 through in or \n",
            "around May 2024, in the District of New Jersey and elsewhere, the defendant , \n",
            "DMITRY YURYEVICH KHOROSHEV (,[(MHTp11:u: IOpheB11q XopomeB), \n",
            "a/k/a \"LockBitSupp,\" \n",
            "a/k/a \"LockBit,\" \n",
            "a/k/a \"putinkrab,\" \n",
            "did knowingly and intentionally conspire with Matveev, Astamirov, Vasiliev, \n",
            "Sungatov, Kondratyev, and other Coconspirators to devise, and intend to devise, a \n",
            "scheme and artifice to defraud and to obtain money and property by means of \n",
            "materially false and fraudulent pretenses, representations, and promises, and, for \n",
            "the purpose of executing and attempting to execute such scheme and artifice to \n",
            "defraud, to knowingly transmit and cause to be transmitted by means of wire \n",
            "communications in interstate and foreign commerce, certain writings, signs, signals, \n",
            "pictures, and sounds, contrary to Title 18, United States Code, Section 1343. \n",
            "In violation of Title 18, United States Code, Section 1349.\n",
            "22 November 13, 2021 Victim-5 \n",
            "23 November 21, 2021 Victim-6 \n",
            "24 November 9, 2022 Victim-10 \n",
            "25 June 13, 2023 Victim-13 \n",
            "26 November 2, 2023 Victim-16 \n",
            "In violation of Title 18, United States Code, Sections 1030(a)(7)(C) and \n",
            "(c)(3)(A), and Section 2. \n",
            "22 FORFEITURE ALLEGATION AS TO COUNTS 1 AND 3 THROUGH 26 \n",
            "1. As a result of committing the offenses charged in Counts 1 and 3 through \n",
            "26 of this Indictment, the defendant, \n",
            "DMITRY YURYEVICH KHOROSHEV (,UMHTpHil IOp1,eBH'I XopomeB), \n",
            "a/k/a \"LockBitSupp,\" \n",
            "a/k/a \"LockBit,\" \n",
            "a/k/a \"putinkrab,\" \n",
            "shall forfeit to the United States: \n",
            "a. pursuant to Title 18, United States Code, Sections 982(a)(2)(B) \n",
            "and 1030(i), any property, real or personal, constituting, or derived from, proceeds \n",
            "obtained directly or indirectly as a result of the offenses charged in Counts 1 and 3 \n",
            "through 26 of this Indictment; and \n",
            "b. pursuant to Title 18, United States Code, Section 1030(i), all\n",
            "22 November 13, 2021 Victim-5 \n",
            "23 November 21, 2021 Victim-6 \n",
            "24 November 9, 2022 Victim-10 \n",
            "25 June 13, 2023 Victim-13 \n",
            "26 November 2, 2023 Victim-16 \n",
            "In violation of Title 18, United States Code, Sections 1030(a)(7)(C) and \n",
            "(c)(3)(A), and Section 2. \n",
            "22 FORFEITURE ALLEGATION AS TO COUNTS 1 AND 3 THROUGH 26 \n",
            "1. As a result of committing the offenses charged in Counts 1 and 3 through \n",
            "26 of this Indictment, the defendant, \n",
            "DMITRY YURYEVICH KHOROSHEV (,UMHTpHil IOp1,eBH'I XopomeB), \n",
            "a/k/a \"LockBitSupp,\" \n",
            "a/k/a \"LockBit,\" \n",
            "a/k/a \"putinkrab,\" \n",
            "shall forfeit to the United States: \n",
            "a. pursuant to Title 18, United States Code, Sections 982(a)(2)(B) \n",
            "and 1030(i), any property, real or personal, constituting, or derived from, proceeds \n",
            "obtained directly or indirectly as a result of the offenses charged in Counts 1 and 3 \n",
            "through 26 of this Indictment; and \n",
            "b. pursuant to Title 18, United States Code, Section 1030(i), all\n",
            "are re alleged here. \n",
            "2. From at least as early as in or around Septemb er 2019 through in or \n",
            "around May 2024, in the District of New Jersey and elsewhere, the defendant, \n",
            "DMITRY YURYEVICH KHOROSHEV (,[t:MHTpnft IOpi.eBw1 XopomeB), \n",
            "a/k/a \"LockBitSupp,\" \n",
            "a/k/a \"LockBit,\" \n",
            "a/k/a \"putinkrab,\" \n",
            "did knowingly and intentionally conspire and agree with Matveev , Astamirov, \n",
            "Vasiliev, Sungatov, Kondratyev, and other Coconspirators to commit offenses against \n",
            "the United States, that is: \n",
            "a. to knowingly cause the transmission of a program, information, \n",
            "code, and command, and, as a result of such conduct, intentionally cause damage \n",
            "without authorization to a protected computer , and cause loss to persons during a 1-\n",
            "year period from the Coconspirators' course of conduct affecting protected computers \n",
            "aggregating at least $5,000 in value, and cause damage affecting 10 or more protected \n",
            "computers during a 1-year period, contrary to Title 18, United States Code, Section\n",
            "are re alleged here. \n",
            "2. From at least as early as in or around Septemb er 2019 through in or \n",
            "around May 2024, in the District of New Jersey and elsewhere, the defendant, \n",
            "DMITRY YURYEVICH KHOROSHEV (,[t:MHTpnft IOpi.eBw1 XopomeB), \n",
            "a/k/a \"LockBitSupp,\" \n",
            "a/k/a \"LockBit,\" \n",
            "a/k/a \"putinkrab,\" \n",
            "did knowingly and intentionally conspire and agree with Matveev , Astamirov, \n",
            "Vasiliev, Sungatov, Kondratyev, and other Coconspirators to commit offenses against \n",
            "the United States, that is: \n",
            "a. to knowingly cause the transmission of a program, information, \n",
            "code, and command, and, as a result of such conduct, intentionally cause damage \n",
            "without authorization to a protected computer , and cause loss to persons during a 1-\n",
            "year period from the Coconspirators' course of conduct affecting protected computers \n",
            "aggregating at least $5,000 in value, and cause damage affecting 10 or more protected \n",
            "computers during a 1-year period, contrary to Title 18, United States Code, Section\n",
            "* [Digital Archive](https://theguardian.newspapers.com)\n",
            "    * [Guardian Licensing](https://licensing.theguardian.com/)\n",
            "    * [About Us](/about)\n",
            "\n",
            "  * [UK](/uk-news)\n",
            "  * [World](/world)\n",
            "  * [Climate crisis](/environment/climate-crisis)\n",
            "  * [Ukraine](/world/ukraine)\n",
            "  * [Football](/football)\n",
            "  * [Newsletters](/email-newsletters)\n",
            "  * [Business](/business)\n",
            "  * [Environment](/environment)\n",
            "  * [UK politics](/politics)\n",
            "  * [Education](/education)\n",
            "  * [Society](/society)\n",
            "  * [Science](/science)\n",
            "  * [Tech](/technology)\n",
            "  * [Global development](/global-development)\n",
            "  * [Obituaries](/obituaries)\n",
            "\n",
            "More\n",
            "\n",
            "![Dmitry Khoroshev, alleged leader of the LockBit Russian cyber crime\n",
            "gang](https://i.guim.co.uk/img/media/7879406efb5df4228d8aff5c24a058c84df9b745/0_140_843_506/master/843.jpg?width=465&dpr=1&s=none)\n",
            "\n",
            "Dmitry Khoroshev, alleged leader of the LockBit Russian cyber crime gang\n",
            "Photograph: National Crime Agency\n",
            "\n",
            "View image in fullscreen\n",
            "* [Digital Archive](https://theguardian.newspapers.com)\n",
            "    * [Guardian Licensing](https://licensing.theguardian.com/)\n",
            "    * [About Us](/about)\n",
            "\n",
            "  * [UK](/uk-news)\n",
            "  * [World](/world)\n",
            "  * [Climate crisis](/environment/climate-crisis)\n",
            "  * [Ukraine](/world/ukraine)\n",
            "  * [Football](/football)\n",
            "  * [Newsletters](/email-newsletters)\n",
            "  * [Business](/business)\n",
            "  * [Environment](/environment)\n",
            "  * [UK politics](/politics)\n",
            "  * [Education](/education)\n",
            "  * [Society](/society)\n",
            "  * [Science](/science)\n",
            "  * [Tech](/technology)\n",
            "  * [Global development](/global-development)\n",
            "  * [Obituaries](/obituaries)\n",
            "\n",
            "More\n",
            "\n",
            "![Dmitry Khoroshev, alleged leader of the LockBit Russian cyber crime\n",
            "gang](https://i.guim.co.uk/img/media/7879406efb5df4228d8aff5c24a058c84df9b745/0_140_843_506/master/843.jpg?width=465&dpr=1&s=none)\n",
            "\n",
            "Dmitry Khoroshev, alleged leader of the LockBit Russian cyber crime gang\n",
            "Photograph: National Crime Agency\n",
            "\n",
            "View image in fullscreen\n",
            "\n",
            "\n",
            "\n",
            "--------------------------------------------------------------------------------\n",
            "ragassistant (to ragproxyagent):\n",
            "\n",
            "Dmitry Yuryevich Khoroshev is the alleged leader of the LockBit ransomware group.\n",
            "\n",
            "--------------------------------------------------------------------------------\n",
            "user_proxy (to assistant):\n",
            "\n",
            "***** Response from calling function (Retrieve_Information_Model_Tool) *****\n",
            "Dmitry Yuryevich Khoroshev is the alleged leader of the LockBit ransomware group.\n",
            "****************************************************************************\n",
            "\n",
            "--------------------------------------------------------------------------------\n",
            "assistant (to user_proxy):\n",
            "\n",
            "***** Suggested function call: Google_Search_Tool *****\n",
            "Arguments: \n",
            "{\"topic\":\"Dmitry Yuryevich Khoroshev Lockbit\",\"sites\":\"theguardian.com\"}\n",
            "*******************************************************\n",
            "\n",
            "--------------------------------------------------------------------------------\n",
            "\n",
            ">>>>>>>> EXECUTING FUNCTION Google_Search_Tool...\n",
            "[:: FROM SYSTEM ::] FUNCTION: Query EXECUTED IN 0.43511 SECONDS\n",
            "user_proxy (to assistant):\n",
            "\n",
            "***** Response from calling function (Google_Search_Tool) *****\n",
            "['https://www.theguardian.com/australia-news/article/2024/may/07/australia-bans-alleged-russian-leader-of-global-ransomware-group-lockbit', 'https://twitter.com/EverettStern1', 'https://www.theguardian.com/business/live/2024/may/07/uk-house-prices-halifax-bp-profits-miss-forecasts-car-sales-ftse-100-business-live?filterKeyEvents=false&page=with%3Ablock-663a7e488f08a6dfd8347178', 'https://www.bankinfosecurity.com/royal-mail-refused-absurd-lockbit-extortion-demand-a-21214']\n",
            "***************************************************************\n",
            "\n",
            "--------------------------------------------------------------------------------\n",
            "assistant (to user_proxy):\n",
            "\n",
            "***** Suggested function call: News_Search_Tool *****\n",
            "Arguments: \n",
            "{\"urls\":[\"https://www.theguardian.com/australia-news/article/2024/may/07/australia-bans-alleged-russian-leader-of-global-ransomware-group-lockbit\"]}\n",
            "*****************************************************\n",
            "\n",
            "--------------------------------------------------------------------------------\n",
            "\n",
            ">>>>>>>> EXECUTING FUNCTION News_Search_Tool...\n",
            "user_proxy (to assistant):\n",
            "\n",
            "***** Response from calling function (News_Search_Tool) *****\n",
            "Error: 'type' object is not iterable\n",
            "*************************************************************\n",
            "\n",
            "--------------------------------------------------------------------------------\n",
            "assistant (to user_proxy):\n",
            "\n",
            "***** Suggested function call: String_To_List_Tool *****\n",
            "Arguments: \n",
            "{\"message\":\"['https://www.theguardian.com/australia-news/article/2024/may/07/australia-bans-alleged-russian-leader-of-global-ransomware-group-lockbit', 'https://twitter.com/EverettStern1', 'https://www.theguardian.com/business/live/2024/may/07/uk-house-prices-halifax-bp-profits-miss-forecasts-car-sales-ftse-100-business-live?filterKeyEvents=false&page=with%3Ablock-663a7e488f08a6dfd8347178', 'https://www.bankinfosecurity.com/royal-mail-refused-absurd-lockbit-extortion-demand-a-21214']\"}\n",
            "********************************************************\n",
            "\n",
            "--------------------------------------------------------------------------------\n",
            "\n",
            ">>>>>>>> EXECUTING FUNCTION String_To_List_Tool...\n",
            "user_proxy (to assistant):\n",
            "\n",
            "***** Response from calling function (String_To_List_Tool) *****\n",
            "['https://www.theguardian.com/australia-news/article/2024/may/07/australia-bans-alleged-russian-leader-of-global-ransomware-group-lockbit']\n",
            "****************************************************************\n",
            "\n",
            "--------------------------------------------------------------------------------\n",
            "assistant (to user_proxy):\n",
            "\n",
            "***** Suggested function call: News_Search_Tool *****\n",
            "Arguments: \n",
            "{\"urls\":[\"https://www.theguardian.com/australia-news/article/2024/may/07/australia-bans-alleged-russian-leader-of-global-ransomware-group-lockbit\"]}\n",
            "*****************************************************\n",
            "\n",
            "--------------------------------------------------------------------------------\n",
            "\n",
            ">>>>>>>> EXECUTING FUNCTION News_Search_Tool...\n",
            "user_proxy (to assistant):\n",
            "\n",
            "***** Response from calling function (News_Search_Tool) *****\n",
            "Error: 'type' object is not iterable\n",
            "*************************************************************\n",
            "\n",
            "--------------------------------------------------------------------------------\n",
            "assistant (to user_proxy):\n",
            "\n",
            "***** Suggested function call: Html_Search_Tool *****\n",
            "Arguments: \n",
            "{\"urls\":[\"https://www.theguardian.com/australia-news/article/2024/may/07/australia-bans-alleged-russian-leader-of-global-ransomware-group-lockbit\"]}\n",
            "*****************************************************\n",
            "\n",
            "--------------------------------------------------------------------------------\n",
            "\n",
            ">>>>>>>> EXECUTING FUNCTION Html_Search_Tool...\n",
            "[:: FROM SYSTEM ::] FUNCTION: Query EXECUTED IN 2.89049 SECONDS\n",
            "user_proxy (to assistant):\n",
            "\n",
            "***** Response from calling function (Html_Search_Tool) *****\n",
            "['https://www.theguardian.com/australia-news/article/2024/may/07/australia-bans-alleged-russian-leader-of-global-ransomware-group-lockbit']\n",
            "*************************************************************\n",
            "\n",
            "--------------------------------------------------------------------------------\n",
            "assistant (to user_proxy):\n",
            "\n",
            "It appears there was an issue retrieving the news content directly. However, I have obtained a URL from The Guardian that may contain relevant information about Dmitry Yuryevich Khoroshev and the Lockbit ransomware group. I will now analyze the HTML content of the provided URL to extract useful information that could aid in the forensic examination and the efforts of judicial forces to apprehend Dmitry Khoroshev.\n",
            "\n",
            "I will proceed with the analysis of the HTML content from The Guardian's article. Please wait while I perform this task.\n",
            "***** Suggested function call: Html_Search_Tool *****\n",
            "Arguments: \n",
            "{\"urls\":[\"https://www.theguardian.com/australia-news/article/2024/may/07/australia-bans-alleged-russian-leader-of-global-ransomware-group-lockbit\"]}\n",
            "*****************************************************\n",
            "\n",
            "--------------------------------------------------------------------------------\n",
            "\n",
            ">>>>>>>> EXECUTING FUNCTION Html_Search_Tool...\n",
            "[:: FROM SYSTEM ::] FUNCTION: Query EXECUTED IN 4.64789 SECONDS\n",
            "user_proxy (to assistant):\n",
            "\n",
            "***** Response from calling function (Html_Search_Tool) *****\n",
            "['https://www.theguardian.com/australia-news/article/2024/may/07/australia-bans-alleged-russian-leader-of-global-ransomware-group-lockbit']\n",
            "*************************************************************\n",
            "\n",
            "--------------------------------------------------------------------------------\n",
            "assistant (to user_proxy):\n",
            "\n",
            "It seems there is a persistent issue with retrieving the content from the provided URL. Despite this, I will attempt to use alternative methods to gather information about Dmitry Yuryevich Khoroshev and the Lockbit ransomware group.\n",
            "\n",
            "Given the limitations, I will now use the Google Search Tool to search for additional information on other websites that may provide insights into Dmitry Khoroshev's activities and whereabouts. This information could be crucial for law enforcement and judicial forces in their efforts to capture him.\n",
            "\n",
            "I will conduct a broader Google search without site restrictions to find more information on Dmitry Yuryevich Khoroshev. Please wait while I perform this search.\n",
            "***** Suggested function call: Google_Search_Tool *****\n",
            "Arguments: \n",
            "{\"topic\":\"Dmitry Yuryevich Khoroshev Lockbit\"}\n",
            "*******************************************************\n",
            "\n",
            "--------------------------------------------------------------------------------\n",
            "\n",
            ">>>>>>>> EXECUTING FUNCTION Google_Search_Tool...\n",
            "[:: FROM SYSTEM ::] FUNCTION: Query EXECUTED IN 0.22964 SECONDS\n",
            "user_proxy (to assistant):\n",
            "\n",
            "***** Response from calling function (Google_Search_Tool) *****\n",
            "['https://home.treasury.gov/news/press-releases/jy2326', 'https://www.reuters.com/technology/cybersecurity/uk-allies-sanction-russian-leader-lockbit-cybercrime-gang-2024-05-07/', 'https://www.state.gov/transnational-organized-crime-rewards-program-2/lockbit-ransomware-administrator-dmitry-yuryevich-khoroshev/', 'https://thehackernews.com/2024/05/russian-hacker-dmitry-khoroshev.html']\n",
            "***************************************************************\n",
            "\n",
            "--------------------------------------------------------------------------------\n",
            "assistant (to user_proxy):\n",
            "\n",
            "***** Suggested function call: News_Search_Tool *****\n",
            "Arguments: \n",
            "{\"urls\":[\"https://home.treasury.gov/news/press-releases/jy2326\",\"https://www.reuters.com/technology/cybersecurity/uk-allies-sanction-russian-leader-lockbit-cybercrime-gang-2024-05-07/\",\"https://www.state.gov/transnational-organized-crime-rewards-program-2/lockbit-ransomware-administrator-dmitry-yuryevich-khoroshev/\",\"https://thehackernews.com/2024/05/russian-hacker-dmitry-khoroshev.html\"]}\n",
            "*****************************************************\n",
            "\n",
            "--------------------------------------------------------------------------------\n",
            "\n",
            ">>>>>>>> EXECUTING FUNCTION News_Search_Tool...\n",
            "user_proxy (to assistant):\n",
            "\n",
            "***** Response from calling function (News_Search_Tool) *****\n",
            "Error: 'type' object is not iterable\n",
            "*************************************************************\n",
            "\n",
            "--------------------------------------------------------------------------------\n",
            "assistant (to user_proxy):\n",
            "\n",
            "***** Suggested function call: String_To_List_Tool *****\n",
            "Arguments: \n",
            "{\"message\":\"['https://home.treasury.gov/news/press-releases/jy2326', 'https://www.reuters.com/technology/cybersecurity/uk-allies-sanction-russian-leader-lockbit-cybercrime-gang-2024-05-07/', 'https://www.state.gov/transnational-organized-crime-rewards-program-2/lockbit-ransomware-administrator-dmitry-yuryevich-khoroshev/', 'https://thehackernews.com/2024/05/russian-hacker-dmitry-khoroshev.html']\"}\n",
            "********************************************************\n",
            "\n",
            "--------------------------------------------------------------------------------\n",
            "\n",
            ">>>>>>>> EXECUTING FUNCTION String_To_List_Tool...\n",
            "user_proxy (to assistant):\n",
            "\n",
            "***** Response from calling function (String_To_List_Tool) *****\n",
            "['https://home.treasury.gov/news/press-releases/jy2326']\n",
            "****************************************************************\n",
            "\n",
            "--------------------------------------------------------------------------------\n",
            "assistant (to user_proxy):\n",
            "\n",
            "***** Suggested function call: News_Search_Tool *****\n",
            "Arguments: \n",
            "{\"urls\":[\"https://home.treasury.gov/news/press-releases/jy2326\",\"https://www.reuters.com/technology/cybersecurity/uk-allies-sanction-russian-leader-lockbit-cybercrime-gang-2024-05-07/\",\"https://www.state.gov/transnational-organized-crime-rewards-program-2/lockbit-ransomware-administrator-dmitry-yuryevich-khoroshev/\",\"https://thehackernews.com/2024/05/russian-hacker-dmitry-khoroshev.html\"]}\n",
            "*****************************************************\n",
            "\n",
            "--------------------------------------------------------------------------------\n",
            "\n",
            ">>>>>>>> EXECUTING FUNCTION News_Search_Tool...\n",
            "user_proxy (to assistant):\n",
            "\n",
            "***** Response from calling function (News_Search_Tool) *****\n",
            "Error: 'type' object is not iterable\n",
            "*************************************************************\n",
            "\n",
            "--------------------------------------------------------------------------------\n",
            "assistant (to user_proxy):\n",
            "\n",
            "***** Suggested function call: String_To_List_Tool *****\n",
            "Arguments: \n",
            "{\"message\":\"['https://home.treasury.gov/news/press-releases/jy2326', 'https://www.reuters.com/technology/cybersecurity/uk-allies-sanction-russian-leader-lockbit-cybercrime-gang-2024-05-07/', 'https://www.state.gov/transnational-organized-crime-rewards-program-2/lockbit-ransomware-administrator-dmitry-yuryevich-khoroshev/', 'https://thehackernews.com/2024/05/russian-hacker-dmitry-khoroshev.html']\"}\n",
            "********************************************************\n",
            "\n",
            "--------------------------------------------------------------------------------\n",
            "\n",
            ">>>>>>>> EXECUTING FUNCTION String_To_List_Tool...\n",
            "user_proxy (to assistant):\n",
            "\n",
            "***** Response from calling function (String_To_List_Tool) *****\n",
            "['https://home.treasury.gov/news/press-releases/jy2326']\n",
            "****************************************************************\n",
            "\n",
            "--------------------------------------------------------------------------------\n",
            "assistant (to user_proxy):\n",
            "\n",
            "***** Suggested function call: News_Search_Tool *****\n",
            "Arguments: \n",
            "{\"urls\":[\"https://home.treasury.gov/news/press-releases/jy2326\",\"https://www.reuters.com/technology/cybersecurity/uk-allies-sanction-russian-leader-lockbit-cybercrime-gang-2024-05-07/\",\"https://www.state.gov/transnational-organized-crime-rewards-program-2/lockbit-ransomware-administrator-dmitry-yuryevich-khoroshev/\",\"https://thehackernews.com/2024/05/russian-hacker-dmitry-khoroshev.html\"]}\n",
            "*****************************************************\n",
            "\n",
            "--------------------------------------------------------------------------------\n",
            "\n",
            ">>>>>>>> EXECUTING FUNCTION News_Search_Tool...\n",
            "user_proxy (to assistant):\n",
            "\n",
            "***** Response from calling function (News_Search_Tool) *****\n",
            "Error: 'type' object is not iterable\n",
            "*************************************************************\n",
            "\n",
            "--------------------------------------------------------------------------------\n",
            "assistant (to user_proxy):\n",
            "\n",
            "I am currently experiencing technical difficulties in retrieving the news content from the provided URLs. Despite these challenges, I will continue to use alternative methods to gather and analyze information that could be crucial in the forensic examination and capture of Dmitry Yuryevich Khoroshev.\n",
            "\n",
            "Given the limitations, I will now manually analyze the URLs provided to extract relevant information. I will start with the first URL from the U.S. Department of the Treasury and proceed to review each source in turn.\n",
            "\n",
            "Please wait while I perform this manual analysis.\n",
            "***** Suggested function call: Html_Search_Tool *****\n",
            "Arguments: \n",
            "{\"urls\":[\"https://home.treasury.gov/news/press-releases/jy2326\",\"https://www.reuters.com/technology/cybersecurity/uk-allies-sanction-russian-leader-lockbit-cybercrime-gang-2024-05-07/\",\"https://www.state.gov/transnational-organized-crime-rewards-program-2/lockbit-ransomware-administrator-dmitry-yuryevich-khoroshev/\",\"https://thehackernews.com/2024/05/russian-hacker-dmitry-khoroshev.html\"]}\n",
            "*****************************************************\n",
            "\n",
            "--------------------------------------------------------------------------------\n",
            "\n",
            ">>>>>>>> EXECUTING FUNCTION Html_Search_Tool...\n",
            "[:: FROM SYSTEM ::] FUNCTION: Query EXECUTED IN 17.08347 SECONDS\n",
            "user_proxy (to assistant):\n",
            "\n",
            "***** Response from calling function (Html_Search_Tool) *****\n",
            "['https://home.treasury.gov/news/press-releases/jy2326', 'https://www.reuters.com/technology/cybersecurity/uk-allies-sanction-russian-leader-lockbit-cybercrime-gang-2024-05-07/', 'https://www.state.gov/transnational-organized-crime-rewards-program-2/lockbit-ransomware-administrator-dmitry-yuryevich-khoroshev/', 'https://thehackernews.com/2024/05/russian-hacker-dmitry-khoroshev.html']\n",
            "*************************************************************\n",
            "\n",
            "--------------------------------------------------------------------------------\n",
            "assistant (to user_proxy):\n",
            "\n",
            "It appears that the technical difficulties persist, and I am unable to retrieve the content from the provided URLs. However, based on the information we have and the known activities of the Lockbit ransomware group, we can make some educated predictions and suggest potential forensic examination evidence to assist judicial forces.\n",
            "\n",
            "Predictions:\n",
            "1. Dmitry Yuryevich Khoroshev may be using advanced methods to cover his digital footprint, making it difficult to trace his online activities.\n",
            "2. He might be operating from a country with lax cybersecurity laws or from a location that does not have an extradition treaty with the countries seeking his arrest.\n",
            "3. Khoroshev could be using cryptocurrency to receive ransom payments, which provides a level of anonymity.\n",
            "4. He may be communicating with his associates through encrypted channels to avoid interception.\n",
            "\n",
            "Forensic Examination Evidence:\n",
            "1. Analysis of the ransomware code could reveal unique characteristics or mistakes that can be traced back to Khoroshev.\n",
            "2. Investigating the flow of cryptocurrency transactions may lead to wallets controlled by Khoroshev or his associates.\n",
            "3. Gathering intelligence from former victims of Lockbit could provide clues about the group's methods and possibly Khoroshev's identity.\n",
            "4. Collaborating with international cybersecurity agencies could help in collecting evidence from multiple sources and jurisdictions.\n",
            "\n",
            "While the direct retrieval of information has been unsuccessful, the above predictions and potential evidence could guide law enforcement in their ongoing investigation to apprehend Dmitry Yuryevich Khoroshev.\n",
            "\n",
            "If further information becomes available or if the technical issues are resolved, additional details could be provided to enhance the current analysis. For now, this concludes the available approach to the task at hand. TERMINATE.\n",
            "\n",
            "--------------------------------------------------------------------------------\n",
            "user_proxy (to assistant):\n",
            "\n",
            "\n",
            "\n",
            "--------------------------------------------------------------------------------\n",
            "assistant (to user_proxy):\n",
            "\n",
            "TERMINATE\n",
            "\n",
            "--------------------------------------------------------------------------------\n"
          ]
        }
      ]
    },
    {
      "cell_type": "markdown",
      "source": [
        "## Result"
      ],
      "metadata": {
        "id": "5p53IiIHBIly"
      }
    },
    {
      "cell_type": "code",
      "source": [
        "print(investigation.summary)"
      ],
      "metadata": {
        "colab": {
          "base_uri": "https://localhost:8080/"
        },
        "id": "ssSRKfYZBJmg",
        "outputId": "90db98ba-afdf-46e8-a2ba-332c6aeb3951"
      },
      "execution_count": 518,
      "outputs": [
        {
          "output_type": "stream",
          "name": "stdout",
          "text": [
            "Dmitry Yuryevich Khoroshev is the alleged leader of the Lockbit ransomware group. Technical difficulties prevented the retrieval of news content from provided URLs. Predictions about Khoroshev's behavior and potential forensic examination evidence were made based on known activities of the Lockbit group. These include the possibility of Khoroshev covering his digital tracks, operating from a country with lax cybersecurity laws, using cryptocurrency for ransom payments, and communicating through encrypted channels. Suggested forensic evidence includes analyzing ransomware code, investigating cryptocurrency transactions, gathering intelligence from victims, and collaborating with international cybersecurity agencies. Despite the technical issues, this information could assist law enforcement in their investigation to apprehend Khoroshev.\n"
          ]
        }
      ]
    },
    {
      "cell_type": "markdown",
      "source": [
        "## Reset"
      ],
      "metadata": {
        "id": "H4C05PWp_k-8"
      }
    },
    {
      "cell_type": "code",
      "source": [
        "proxy.reset()\n",
        "agent.reset()"
      ],
      "metadata": {
        "id": "NyBQCT4__lot"
      },
      "execution_count": 519,
      "outputs": []
    },
    {
      "cell_type": "code",
      "source": [],
      "metadata": {
        "id": "I-6NLiFp_-I6"
      },
      "execution_count": 519,
      "outputs": []
    }
  ]
}